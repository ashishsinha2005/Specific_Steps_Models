{
 "cells": [
  {
   "cell_type": "code",
   "execution_count": 1,
   "metadata": {},
   "outputs": [],
   "source": [
    "# Pandas  handling Missing Values"
   ]
  },
  {
   "cell_type": "code",
   "execution_count": 605,
   "metadata": {},
   "outputs": [],
   "source": [
    "import\tpandas\tas\tpd\n",
    "import\tnumpy\tas\tnp"
   ]
  },
  {
   "cell_type": "code",
   "execution_count": 607,
   "metadata": {},
   "outputs": [],
   "source": [
    "# Creating\tthe\tdataset"
   ]
  },
  {
   "cell_type": "code",
   "execution_count": 613,
   "metadata": {},
   "outputs": [
    {
     "name": "stdout",
     "output_type": "stream",
     "text": [
      "    ord_no  purch_amt    ord_date  customer_id  salesman_id\n",
      "0  70001.0     150.50  2012-10-05         3002       5002.0\n",
      "1      NaN     270.65  2012-09-10         3001       5003.0\n",
      "2  70002.0      65.26         NaN         3001       5001.0\n",
      "3  70004.0     110.50  2012-08-17         3003          NaN\n",
      "4      NaN     948.50  2012-01-10         3002       5002.0\n"
     ]
    }
   ],
   "source": [
    " df\t=\tpd.DataFrame({\n",
    " 'ord_no':[70001,np.nan,70002,70004,np.nan,70005,np.nan,70010,70003,70012,np.nan,70013],\n",
    " 'purch_amt':[150.5,270.65,65.26,110.5,948.5,2400.6,5760,1983.43,2480.4,250.45,\t75.29,3045.6],\n",
    "'ord_date':\t['2012-10-05','2012-09-10',np.nan,'2012-08-17','2012-01-10','2012-07-27','2012-02-10','2012-3-10','2012-4-10','2012-5-10','2012-6-10','2012-7-10'],\n",
    "'customer_id':[3002,3001,3001,3003,3002,3001,3001,3004,3003,3002,3001,3001],\n",
    " 'salesman_id':[5002,5003,5001,np.nan,5002,5001,5001,np.nan,5003,5002,5003,np.nan]})\n",
    " print(df.head())"
   ]
  },
  {
   "cell_type": "code",
   "execution_count": 615,
   "metadata": {},
   "outputs": [
    {
     "name": "stdout",
     "output_type": "stream",
     "text": [
      "detect\tmissing\tvalues\tof\ta\tgiven\tDataFrame.\tDisplay\tTrue\tor\tFalse.\n"
     ]
    },
    {
     "data": {
      "text/html": [
       "<div>\n",
       "<style scoped>\n",
       "    .dataframe tbody tr th:only-of-type {\n",
       "        vertical-align: middle;\n",
       "    }\n",
       "\n",
       "    .dataframe tbody tr th {\n",
       "        vertical-align: top;\n",
       "    }\n",
       "\n",
       "    .dataframe thead th {\n",
       "        text-align: right;\n",
       "    }\n",
       "</style>\n",
       "<table border=\"1\" class=\"dataframe\">\n",
       "  <thead>\n",
       "    <tr style=\"text-align: right;\">\n",
       "      <th></th>\n",
       "      <th>ord_no</th>\n",
       "      <th>purch_amt</th>\n",
       "      <th>ord_date</th>\n",
       "      <th>customer_id</th>\n",
       "      <th>salesman_id</th>\n",
       "    </tr>\n",
       "  </thead>\n",
       "  <tbody>\n",
       "    <tr>\n",
       "      <th>0</th>\n",
       "      <td>False</td>\n",
       "      <td>False</td>\n",
       "      <td>False</td>\n",
       "      <td>False</td>\n",
       "      <td>False</td>\n",
       "    </tr>\n",
       "    <tr>\n",
       "      <th>1</th>\n",
       "      <td>True</td>\n",
       "      <td>False</td>\n",
       "      <td>False</td>\n",
       "      <td>False</td>\n",
       "      <td>False</td>\n",
       "    </tr>\n",
       "    <tr>\n",
       "      <th>2</th>\n",
       "      <td>False</td>\n",
       "      <td>False</td>\n",
       "      <td>True</td>\n",
       "      <td>False</td>\n",
       "      <td>False</td>\n",
       "    </tr>\n",
       "    <tr>\n",
       "      <th>3</th>\n",
       "      <td>False</td>\n",
       "      <td>False</td>\n",
       "      <td>False</td>\n",
       "      <td>False</td>\n",
       "      <td>True</td>\n",
       "    </tr>\n",
       "    <tr>\n",
       "      <th>4</th>\n",
       "      <td>True</td>\n",
       "      <td>False</td>\n",
       "      <td>False</td>\n",
       "      <td>False</td>\n",
       "      <td>False</td>\n",
       "    </tr>\n",
       "    <tr>\n",
       "      <th>5</th>\n",
       "      <td>False</td>\n",
       "      <td>False</td>\n",
       "      <td>False</td>\n",
       "      <td>False</td>\n",
       "      <td>False</td>\n",
       "    </tr>\n",
       "    <tr>\n",
       "      <th>6</th>\n",
       "      <td>True</td>\n",
       "      <td>False</td>\n",
       "      <td>False</td>\n",
       "      <td>False</td>\n",
       "      <td>False</td>\n",
       "    </tr>\n",
       "    <tr>\n",
       "      <th>7</th>\n",
       "      <td>False</td>\n",
       "      <td>False</td>\n",
       "      <td>False</td>\n",
       "      <td>False</td>\n",
       "      <td>True</td>\n",
       "    </tr>\n",
       "    <tr>\n",
       "      <th>8</th>\n",
       "      <td>False</td>\n",
       "      <td>False</td>\n",
       "      <td>False</td>\n",
       "      <td>False</td>\n",
       "      <td>False</td>\n",
       "    </tr>\n",
       "    <tr>\n",
       "      <th>9</th>\n",
       "      <td>False</td>\n",
       "      <td>False</td>\n",
       "      <td>False</td>\n",
       "      <td>False</td>\n",
       "      <td>False</td>\n",
       "    </tr>\n",
       "    <tr>\n",
       "      <th>10</th>\n",
       "      <td>True</td>\n",
       "      <td>False</td>\n",
       "      <td>False</td>\n",
       "      <td>False</td>\n",
       "      <td>False</td>\n",
       "    </tr>\n",
       "    <tr>\n",
       "      <th>11</th>\n",
       "      <td>False</td>\n",
       "      <td>False</td>\n",
       "      <td>False</td>\n",
       "      <td>False</td>\n",
       "      <td>True</td>\n",
       "    </tr>\n",
       "  </tbody>\n",
       "</table>\n",
       "</div>"
      ],
      "text/plain": [
       "    ord_no  purch_amt  ord_date  customer_id  salesman_id\n",
       "0    False      False     False        False        False\n",
       "1     True      False     False        False        False\n",
       "2    False      False      True        False        False\n",
       "3    False      False     False        False         True\n",
       "4     True      False     False        False        False\n",
       "5    False      False     False        False        False\n",
       "6     True      False     False        False        False\n",
       "7    False      False     False        False         True\n",
       "8    False      False     False        False        False\n",
       "9    False      False     False        False        False\n",
       "10    True      False     False        False        False\n",
       "11   False      False     False        False         True"
      ]
     },
     "execution_count": 615,
     "metadata": {},
     "output_type": "execute_result"
    }
   ],
   "source": [
    " #\t1.\tWrite\ta\tPandas\tprogram\tto\tdetect\tmissing\tvalues\tof\ta\tgiven\tDataFrame.\tDisplay\tTrue\tor\tFalse.\n",
    " print(\"detect\tmissing\tvalues\tof\ta\tgiven\tDataFrame.\tDisplay\tTrue\tor\tFalse.\")\n",
    " df.isna()"
   ]
  },
  {
   "cell_type": "code",
   "execution_count": 617,
   "metadata": {},
   "outputs": [
    {
     "name": "stdout",
     "output_type": "stream",
     "text": [
      "identify\tthe\tcolumn(s)\tof\ta\tgiven\tDataFrame\twhich\thave\tat\tleast\tone\tmissing\tvalue\n"
     ]
    },
    {
     "data": {
      "text/plain": [
       "Index(['ord_no', 'ord_date', 'salesman_id'], dtype='object')"
      ]
     },
     "execution_count": 617,
     "metadata": {},
     "output_type": "execute_result"
    }
   ],
   "source": [
    " #\t2.\tWrite\ta\tPandas\tprogram\tto\tidentify\tthe\tcolumn(s)\tof\ta\tgiven\tDataFrame\twhich\thave\tat\tleast\tone\tmissing\tvalue\n",
    " print(\"identify\tthe\tcolumn(s)\tof\ta\tgiven\tDataFrame\twhich\thave\tat\tleast\tone\tmissing\tvalue\")\n",
    " df.columns[df.isna().any()]"
   ]
  },
  {
   "cell_type": "code",
   "execution_count": 621,
   "metadata": {},
   "outputs": [
    {
     "name": "stdout",
     "output_type": "stream",
     "text": [
      "count\tthe\tnumber\tof\tmissing\tvalues\tin\teach\tcolumn\n"
     ]
    },
    {
     "data": {
      "text/plain": [
       "ord_no         4\n",
       "purch_amt      0\n",
       "ord_date       1\n",
       "customer_id    0\n",
       "salesman_id    3\n",
       "dtype: int64"
      ]
     },
     "execution_count": 621,
     "metadata": {},
     "output_type": "execute_result"
    }
   ],
   "source": [
    "#\t3.\tWrite\ta\tPandas\tprogram\tto\tcount\tthe\tnumber\tof\tmissing\tvalues\tin\teach\tcolumn\tof\ta\tgiven\tDataFrame.\n",
    "print(\"count\tthe\tnumber\tof\tmissing\tvalues\tin\teach\tcolumn\")\n",
    "df.isna().sum()"
   ]
  },
  {
   "cell_type": "code",
   "execution_count": 629,
   "metadata": {},
   "outputs": [
    {
     "name": "stdout",
     "output_type": "stream",
     "text": [
      "Original\tOrders\tDataFrame:\n",
      "   ord_no purch_amt    ord_date customer_id salesman_id\n",
      "0   70001     150.5           ?        3002        5002\n",
      "1     NaN    270.65  2012-09-10        3001        5003\n",
      "2   70002     65.26         NaN        3001           ?\n",
      "3   70004     110.5  2012-08-17        3003        5001\n",
      "4     NaN     948.5  2012-01-10        3002         NaN\n",
      "5   70005    2400.6  2012-07-27        3001        5002\n",
      "6      --      5760  2012-02-10        3001        5001\n",
      "7   70010         ?   2012-3-10        3004           ?\n",
      "8   70003     12.43   2012-4-10          --        5003\n",
      "9   70012    2480.4   2012-5-10        3002        5002\n",
      "10    NaN    250.45   2012-6-10        3001        5003\n",
      "11  70013    3045.6   2012-7-10        3001          --\n",
      "find\tand\treplace\tthe\tmissing\tvalues\n"
     ]
    },
    {
     "data": {
      "text/html": [
       "<div>\n",
       "<style scoped>\n",
       "    .dataframe tbody tr th:only-of-type {\n",
       "        vertical-align: middle;\n",
       "    }\n",
       "\n",
       "    .dataframe tbody tr th {\n",
       "        vertical-align: top;\n",
       "    }\n",
       "\n",
       "    .dataframe thead th {\n",
       "        text-align: right;\n",
       "    }\n",
       "</style>\n",
       "<table border=\"1\" class=\"dataframe\">\n",
       "  <thead>\n",
       "    <tr style=\"text-align: right;\">\n",
       "      <th></th>\n",
       "      <th>ord_no</th>\n",
       "      <th>purch_amt</th>\n",
       "      <th>ord_date</th>\n",
       "      <th>customer_id</th>\n",
       "      <th>salesman_id</th>\n",
       "    </tr>\n",
       "  </thead>\n",
       "  <tbody>\n",
       "    <tr>\n",
       "      <th>0</th>\n",
       "      <td>70001.0</td>\n",
       "      <td>150.50</td>\n",
       "      <td>NaN</td>\n",
       "      <td>3002.0</td>\n",
       "      <td>5002.0</td>\n",
       "    </tr>\n",
       "    <tr>\n",
       "      <th>1</th>\n",
       "      <td>NaN</td>\n",
       "      <td>270.65</td>\n",
       "      <td>2012-09-10</td>\n",
       "      <td>3001.0</td>\n",
       "      <td>5003.0</td>\n",
       "    </tr>\n",
       "    <tr>\n",
       "      <th>2</th>\n",
       "      <td>70002.0</td>\n",
       "      <td>65.26</td>\n",
       "      <td>NaN</td>\n",
       "      <td>3001.0</td>\n",
       "      <td>NaN</td>\n",
       "    </tr>\n",
       "    <tr>\n",
       "      <th>3</th>\n",
       "      <td>70004.0</td>\n",
       "      <td>110.50</td>\n",
       "      <td>2012-08-17</td>\n",
       "      <td>3003.0</td>\n",
       "      <td>5001.0</td>\n",
       "    </tr>\n",
       "    <tr>\n",
       "      <th>4</th>\n",
       "      <td>NaN</td>\n",
       "      <td>948.50</td>\n",
       "      <td>2012-01-10</td>\n",
       "      <td>3002.0</td>\n",
       "      <td>NaN</td>\n",
       "    </tr>\n",
       "    <tr>\n",
       "      <th>5</th>\n",
       "      <td>70005.0</td>\n",
       "      <td>2400.60</td>\n",
       "      <td>2012-07-27</td>\n",
       "      <td>3001.0</td>\n",
       "      <td>5002.0</td>\n",
       "    </tr>\n",
       "    <tr>\n",
       "      <th>6</th>\n",
       "      <td>NaN</td>\n",
       "      <td>5760.00</td>\n",
       "      <td>2012-02-10</td>\n",
       "      <td>3001.0</td>\n",
       "      <td>5001.0</td>\n",
       "    </tr>\n",
       "    <tr>\n",
       "      <th>7</th>\n",
       "      <td>70010.0</td>\n",
       "      <td>NaN</td>\n",
       "      <td>2012-3-10</td>\n",
       "      <td>3004.0</td>\n",
       "      <td>NaN</td>\n",
       "    </tr>\n",
       "    <tr>\n",
       "      <th>8</th>\n",
       "      <td>70003.0</td>\n",
       "      <td>12.43</td>\n",
       "      <td>2012-4-10</td>\n",
       "      <td>NaN</td>\n",
       "      <td>5003.0</td>\n",
       "    </tr>\n",
       "    <tr>\n",
       "      <th>9</th>\n",
       "      <td>70012.0</td>\n",
       "      <td>2480.40</td>\n",
       "      <td>2012-5-10</td>\n",
       "      <td>3002.0</td>\n",
       "      <td>5002.0</td>\n",
       "    </tr>\n",
       "    <tr>\n",
       "      <th>10</th>\n",
       "      <td>NaN</td>\n",
       "      <td>250.45</td>\n",
       "      <td>2012-6-10</td>\n",
       "      <td>3001.0</td>\n",
       "      <td>5003.0</td>\n",
       "    </tr>\n",
       "    <tr>\n",
       "      <th>11</th>\n",
       "      <td>70013.0</td>\n",
       "      <td>3045.60</td>\n",
       "      <td>2012-7-10</td>\n",
       "      <td>3001.0</td>\n",
       "      <td>NaN</td>\n",
       "    </tr>\n",
       "  </tbody>\n",
       "</table>\n",
       "</div>"
      ],
      "text/plain": [
       "     ord_no  purch_amt    ord_date  customer_id  salesman_id\n",
       "0   70001.0     150.50         NaN       3002.0       5002.0\n",
       "1       NaN     270.65  2012-09-10       3001.0       5003.0\n",
       "2   70002.0      65.26         NaN       3001.0          NaN\n",
       "3   70004.0     110.50  2012-08-17       3003.0       5001.0\n",
       "4       NaN     948.50  2012-01-10       3002.0          NaN\n",
       "5   70005.0    2400.60  2012-07-27       3001.0       5002.0\n",
       "6       NaN    5760.00  2012-02-10       3001.0       5001.0\n",
       "7   70010.0        NaN   2012-3-10       3004.0          NaN\n",
       "8   70003.0      12.43   2012-4-10          NaN       5003.0\n",
       "9   70012.0    2480.40   2012-5-10       3002.0       5002.0\n",
       "10      NaN     250.45   2012-6-10       3001.0       5003.0\n",
       "11  70013.0    3045.60   2012-7-10       3001.0          NaN"
      ]
     },
     "execution_count": 629,
     "metadata": {},
     "output_type": "execute_result"
    }
   ],
   "source": [
    " #\t4.\tWrite\ta\tPandas\tprogram\tto\tfind\tand\treplace\tthe\tmissing\tvalues\tin\ta\tgiven\tDataFrame\t\n",
    "#which\tdo\tnot\thave\tany\tvaluable\tinformation.\n",
    " df1\t=\tpd.DataFrame({\n",
    "'ord_no':[70001,np.nan,70002,70004,np.nan,70005,\"--\",70010,70003,70012,np.nan,70013],\n",
    "'purch_amt':[150.5,270.65,65.26,110.5,948.5,2400.6,5760,\"?\",12.43,2480.4,250.45,3045.6],\n",
    "'ord_date':['?','2012-09-10',np.nan,'2012-08-17','2012-01-10','2012-07-27','2012-02-10','2012-3-10','2012-4-10','2012-5-10','2012-6-10','2012-7-10'],\n",
    "'customer_id':[3002,3001,3001,3003,3002,3001,3001,3004,\"--\",3002,3001,3001],\n",
    "'salesman_id':[5002,5003,\"?\",5001,np.nan,5002,5001,\"?\",5003,5002,5003,\"--\"]})\n",
    "print(\"Original\tOrders\tDataFrame:\")\n",
    "print(df1)\n",
    "print('find\tand\treplace\tthe\tmissing\tvalues')\n",
    "df1.replace({'?':np.nan,'--':np.nan},inplace=True)\n",
    "df1\n"
   ]
  },
  {
   "cell_type": "code",
   "execution_count": 633,
   "metadata": {},
   "outputs": [
    {
     "name": "stdout",
     "output_type": "stream",
     "text": [
      "rows\twith\tat\tleast\tone\tmissing\tvalues\n",
      "Index([1, 2, 3, 4, 6, 7, 10, 11], dtype='int64')\n",
      "dropping\tthe\trows\twith\tat\tleast\tone\tmissing\tvalue\n"
     ]
    },
    {
     "data": {
      "text/plain": [
       "ord_no         0\n",
       "purch_amt      0\n",
       "ord_date       0\n",
       "customer_id    0\n",
       "salesman_id    0\n",
       "dtype: int64"
      ]
     },
     "execution_count": 633,
     "metadata": {},
     "output_type": "execute_result"
    }
   ],
   "source": [
    "#\t5.\tWrite\ta\tPandas\tprogram\tto\tdrop\tthe\trows\twhere\tat\tleast\tone\telement\tis\tmissing\tin\ta\tgiven\tDataFrame\n",
    "df1=df.copy()\n",
    "print(\"rows\twith\tat\tleast\tone\tmissing\tvalues\")\n",
    "idx=df1[df1.isnull().any(axis=1)].index\n",
    "print(idx)\n",
    "print(\"dropping\tthe\trows\twith\tat\tleast\tone\tmissing\tvalue\")\n",
    "df1.drop(index=idx,inplace=True)\n",
    "df1.isnull().sum()"
   ]
  },
  {
   "cell_type": "code",
   "execution_count": 637,
   "metadata": {},
   "outputs": [
    {
     "name": "stdout",
     "output_type": "stream",
     "text": [
      "columns\twhere\tat\tleast\tone\telements\tis\tmissing\n",
      "Index(['ord_no', 'ord_date', 'salesman_id'], dtype='object')\n",
      "dropping\tthe\tcolumns\thaving\tat\tleast\tone\tmissing\tvalue\n"
     ]
    },
    {
     "data": {
      "text/html": [
       "<div>\n",
       "<style scoped>\n",
       "    .dataframe tbody tr th:only-of-type {\n",
       "        vertical-align: middle;\n",
       "    }\n",
       "\n",
       "    .dataframe tbody tr th {\n",
       "        vertical-align: top;\n",
       "    }\n",
       "\n",
       "    .dataframe thead th {\n",
       "        text-align: right;\n",
       "    }\n",
       "</style>\n",
       "<table border=\"1\" class=\"dataframe\">\n",
       "  <thead>\n",
       "    <tr style=\"text-align: right;\">\n",
       "      <th></th>\n",
       "      <th>purch_amt</th>\n",
       "      <th>customer_id</th>\n",
       "    </tr>\n",
       "  </thead>\n",
       "  <tbody>\n",
       "    <tr>\n",
       "      <th>0</th>\n",
       "      <td>150.50</td>\n",
       "      <td>3002</td>\n",
       "    </tr>\n",
       "    <tr>\n",
       "      <th>1</th>\n",
       "      <td>270.65</td>\n",
       "      <td>3001</td>\n",
       "    </tr>\n",
       "    <tr>\n",
       "      <th>2</th>\n",
       "      <td>65.26</td>\n",
       "      <td>3001</td>\n",
       "    </tr>\n",
       "    <tr>\n",
       "      <th>3</th>\n",
       "      <td>110.50</td>\n",
       "      <td>3003</td>\n",
       "    </tr>\n",
       "    <tr>\n",
       "      <th>4</th>\n",
       "      <td>948.50</td>\n",
       "      <td>3002</td>\n",
       "    </tr>\n",
       "    <tr>\n",
       "      <th>5</th>\n",
       "      <td>2400.60</td>\n",
       "      <td>3001</td>\n",
       "    </tr>\n",
       "    <tr>\n",
       "      <th>6</th>\n",
       "      <td>5760.00</td>\n",
       "      <td>3001</td>\n",
       "    </tr>\n",
       "    <tr>\n",
       "      <th>7</th>\n",
       "      <td>1983.43</td>\n",
       "      <td>3004</td>\n",
       "    </tr>\n",
       "    <tr>\n",
       "      <th>8</th>\n",
       "      <td>2480.40</td>\n",
       "      <td>3003</td>\n",
       "    </tr>\n",
       "    <tr>\n",
       "      <th>9</th>\n",
       "      <td>250.45</td>\n",
       "      <td>3002</td>\n",
       "    </tr>\n",
       "    <tr>\n",
       "      <th>10</th>\n",
       "      <td>75.29</td>\n",
       "      <td>3001</td>\n",
       "    </tr>\n",
       "    <tr>\n",
       "      <th>11</th>\n",
       "      <td>3045.60</td>\n",
       "      <td>3001</td>\n",
       "    </tr>\n",
       "  </tbody>\n",
       "</table>\n",
       "</div>"
      ],
      "text/plain": [
       "    purch_amt  customer_id\n",
       "0      150.50         3002\n",
       "1      270.65         3001\n",
       "2       65.26         3001\n",
       "3      110.50         3003\n",
       "4      948.50         3002\n",
       "5     2400.60         3001\n",
       "6     5760.00         3001\n",
       "7     1983.43         3004\n",
       "8     2480.40         3003\n",
       "9      250.45         3002\n",
       "10      75.29         3001\n",
       "11    3045.60         3001"
      ]
     },
     "execution_count": 637,
     "metadata": {},
     "output_type": "execute_result"
    }
   ],
   "source": [
    "#\t6.\tWrite\ta\tPandas\tprogram\tto\tdrop\tthe\tcolumns\twhere\tat\tleast\tone\telement\tis\tmissing\tin\ta\tgiven\tDataFrame.\n",
    "df1=df.copy()\n",
    "print(\"columns\twhere\tat\tleast\tone\telements\tis\tmissing\")\n",
    "cols=df1.columns[df1.isna().any()]\n",
    "print(cols)\n",
    "print(\"dropping\tthe\tcolumns\thaving\tat\tleast\tone\tmissing\tvalue\")\n",
    "df1.drop(columns=cols)"
   ]
  },
  {
   "cell_type": "code",
   "execution_count": 639,
   "metadata": {},
   "outputs": [
    {
     "name": "stdout",
     "output_type": "stream",
     "text": [
      "drop\tthe\trows\twhere\tall\telements\tare\tmissing\n",
      "     ord_no  purch_amt    ord_date  customer_id  salesman_id\n",
      "0   70001.0     150.50  2012-10-05         3002       5002.0\n",
      "1       NaN     270.65  2012-09-10         3001       5003.0\n",
      "2   70002.0      65.26         NaN         3001       5001.0\n",
      "3   70004.0     110.50  2012-08-17         3003          NaN\n",
      "4       NaN     948.50  2012-01-10         3002       5002.0\n",
      "5   70005.0    2400.60  2012-07-27         3001       5001.0\n",
      "6       NaN    5760.00  2012-02-10         3001       5001.0\n",
      "7   70010.0    1983.43   2012-3-10         3004          NaN\n",
      "8   70003.0    2480.40   2012-4-10         3003       5003.0\n",
      "9   70012.0     250.45   2012-5-10         3002       5002.0\n",
      "10      NaN      75.29   2012-6-10         3001       5003.0\n",
      "11  70013.0    3045.60   2012-7-10         3001          NaN\n",
      "in\tthe\tabove\tdataframe\tthere\tare\tno\trows\twhere\tall\telements\tare\tmissing\thence\tnone\tof\tthe\trows\tare\tdrop\n"
     ]
    }
   ],
   "source": [
    " #7.\tWrite\ta\tPandas\tprogram\tto\tdrop\tthe\trows\twhere\tall\telements\tare\tmissing\tin\ta\tgiven\tDataFrame.\n",
    " df1=df.copy()\n",
    " print(\"drop\tthe\trows\twhere\tall\telements\tare\tmissing\")\n",
    " print(df1.dropna(how=\"all\"))\n",
    " print(\"in\tthe\tabove\tdataframe\tthere\tare\tno\trows\twhere\tall\telements\tare\tmissing\thence\tnone\tof\tthe\trows\tare\tdrop\")"
   ]
  },
  {
   "cell_type": "code",
   "execution_count": 645,
   "metadata": {},
   "outputs": [
    {
     "name": "stdout",
     "output_type": "stream",
     "text": [
      "Original\tdataframe\n",
      "     ord_no  purch_amt    ord_date  customer_id\n",
      "0       NaN        NaN         NaN          NaN\n",
      "1       NaN     270.65  2012-09-10       3001.0\n",
      "2   70002.0      65.26         NaN       3001.0\n",
      "3       NaN        NaN         NaN          NaN\n",
      "4       NaN     948.50  2012-09-10       3002.0\n",
      "5   70005.0    2400.60  2012-07-27       3001.0\n",
      "6       NaN    5760.00  2012-09-10       3001.0\n",
      "7   70010.0    1983.43  2012-10-10       3004.0\n",
      "8   70003.0    2480.40  2012-10-10       3003.0\n",
      "9   70012.0     250.45  2012-10-10       3002.0\n",
      "10      NaN      75.29  2012-10-10       3001.0\n",
      "11      NaN        NaN  2012-10-10          NaN\n",
      "\n",
      "Keep\tthe\trows\twith\tat\tleast\t2\tNaN\tvalues\tof\tthe\tsaid\tDataFrame:\n",
      "     ord_no  purch_amt    ord_date  customer_id\n",
      "1       NaN     270.65  2012-09-10       3001.0\n",
      "2   70002.0      65.26         NaN       3001.0\n",
      "4       NaN     948.50  2012-09-10       3002.0\n",
      "5   70005.0    2400.60  2012-07-27       3001.0\n",
      "6       NaN    5760.00  2012-09-10       3001.0\n",
      "7   70010.0    1983.43  2012-10-10       3004.0\n",
      "8   70003.0    2480.40  2012-10-10       3003.0\n",
      "9   70012.0     250.45  2012-10-10       3002.0\n",
      "10      NaN      75.29  2012-10-10       3001.0\n"
     ]
    }
   ],
   "source": [
    " #\t8.\tWrite\ta\tPandas\tprogram\tto\tkeep\tthe\trows\twith\tat\tleast\t2\tNaN\tvalues\tin\ta\tgiven\tDataFrame\n",
    " df_new=pd.DataFrame({\n",
    " 'ord_no':[np.nan,np.nan,70002,np.nan,np.nan,70005,np.nan,70010,70003,70012,np.nan,np.nan],\n",
    " 'purch_amt':[np.nan,270.65,65.26,np.nan,948.5,2400.6,5760,1983.43,2480.4,250.45,\t75.29,np.nan],\n",
    " 'ord_date':\t[np.nan,'2012-09-10',np.nan,np.nan,'2012-09-10','2012-07-27','2012-09-10','2012-10-10','2012-10-10','2012-10-10','2012-10-10','2012-10-10'],\n",
    " 'customer_id':[np.nan,3001,3001,np.nan,3002,3001,3001,3004,3003,3002,3001,np.nan]})\n",
    " print('Original\tdataframe')\n",
    " print(df_new)\n",
    " print(\"\\nKeep\tthe\trows\twith\tat\tleast\t2\tNaN\tvalues\tof\tthe\tsaid\tDataFrame:\")\n",
    " print(df_new.dropna(thresh=2))"
   ]
  },
  {
   "cell_type": "code",
   "execution_count": 647,
   "metadata": {},
   "outputs": [
    {
     "name": "stdout",
     "output_type": "stream",
     "text": [
      "Original\tdataframe\n",
      "     ord_no  purch_amt    ord_date  customer_id\n",
      "0       NaN        NaN         NaN          NaN\n",
      "1       NaN     270.65  2012-09-10       3001.0\n",
      "2   70002.0      65.26         NaN       3001.0\n",
      "3       NaN        NaN         NaN          NaN\n",
      "4       NaN     948.50  2012-09-10       3002.0\n",
      "5   70005.0    2400.60  2012-07-27       3001.0\n",
      "6       NaN    5760.00  2012-09-10       3001.0\n",
      "7   70010.0    1983.43  2012-10-10       3004.0\n",
      "8   70003.0    2480.40  2012-10-10       3003.0\n",
      "9   70012.0     250.45  2012-10-10       3002.0\n",
      "10      NaN      75.29  2012-10-10       3001.0\n",
      "11      NaN        NaN  2012-10-10          NaN\n",
      "drop\tthose\trows\tfrom\ta\tgiven\tDataFrame\tin\twhich\tspecific\tcolumns\thave\tmissing\tvalues\n"
     ]
    },
    {
     "data": {
      "text/html": [
       "<div>\n",
       "<style scoped>\n",
       "    .dataframe tbody tr th:only-of-type {\n",
       "        vertical-align: middle;\n",
       "    }\n",
       "\n",
       "    .dataframe tbody tr th {\n",
       "        vertical-align: top;\n",
       "    }\n",
       "\n",
       "    .dataframe thead th {\n",
       "        text-align: right;\n",
       "    }\n",
       "</style>\n",
       "<table border=\"1\" class=\"dataframe\">\n",
       "  <thead>\n",
       "    <tr style=\"text-align: right;\">\n",
       "      <th></th>\n",
       "      <th>ord_no</th>\n",
       "      <th>purch_amt</th>\n",
       "      <th>ord_date</th>\n",
       "      <th>customer_id</th>\n",
       "    </tr>\n",
       "  </thead>\n",
       "  <tbody>\n",
       "    <tr>\n",
       "      <th>2</th>\n",
       "      <td>70002.0</td>\n",
       "      <td>65.26</td>\n",
       "      <td>NaN</td>\n",
       "      <td>3001.0</td>\n",
       "    </tr>\n",
       "    <tr>\n",
       "      <th>5</th>\n",
       "      <td>70005.0</td>\n",
       "      <td>2400.60</td>\n",
       "      <td>2012-07-27</td>\n",
       "      <td>3001.0</td>\n",
       "    </tr>\n",
       "    <tr>\n",
       "      <th>7</th>\n",
       "      <td>70010.0</td>\n",
       "      <td>1983.43</td>\n",
       "      <td>2012-10-10</td>\n",
       "      <td>3004.0</td>\n",
       "    </tr>\n",
       "    <tr>\n",
       "      <th>8</th>\n",
       "      <td>70003.0</td>\n",
       "      <td>2480.40</td>\n",
       "      <td>2012-10-10</td>\n",
       "      <td>3003.0</td>\n",
       "    </tr>\n",
       "    <tr>\n",
       "      <th>9</th>\n",
       "      <td>70012.0</td>\n",
       "      <td>250.45</td>\n",
       "      <td>2012-10-10</td>\n",
       "      <td>3002.0</td>\n",
       "    </tr>\n",
       "  </tbody>\n",
       "</table>\n",
       "</div>"
      ],
      "text/plain": [
       "    ord_no  purch_amt    ord_date  customer_id\n",
       "2  70002.0      65.26         NaN       3001.0\n",
       "5  70005.0    2400.60  2012-07-27       3001.0\n",
       "7  70010.0    1983.43  2012-10-10       3004.0\n",
       "8  70003.0    2480.40  2012-10-10       3003.0\n",
       "9  70012.0     250.45  2012-10-10       3002.0"
      ]
     },
     "execution_count": 647,
     "metadata": {},
     "output_type": "execute_result"
    }
   ],
   "source": [
    " #\t9.\tWrite\ta\tPandas\tprogram\tto\tdrop\tthose\trows\tfrom\ta\tgiven\tDataFrame\tin\twhich\tspecific\tcolumns\thave\tmissing\tvalues.\n",
    " print(\"Original\tdataframe\")\n",
    " print(df_new)\n",
    " print(\"drop\tthose\trows\tfrom\ta\tgiven\tDataFrame\tin\twhich\tspecific\tcolumns\thave\tmissing\tvalues\")\n",
    " df_new.dropna(subset=['ord_no','customer_id'])\n"
   ]
  },
  {
   "cell_type": "code",
   "execution_count": 649,
   "metadata": {},
   "outputs": [
    {
     "name": "stdout",
     "output_type": "stream",
     "text": [
      "Original\tdataframe\n",
      "     ord_no  purch_amt    ord_date  customer_id\n",
      "0       NaN        NaN         NaN          NaN\n",
      "1       NaN     270.65  2012-09-10       3001.0\n",
      "2   70002.0      65.26         NaN       3001.0\n",
      "3       NaN        NaN         NaN          NaN\n",
      "4       NaN     948.50  2012-09-10       3002.0\n",
      "5   70005.0    2400.60  2012-07-27       3001.0\n",
      "6       NaN    5760.00  2012-09-10       3001.0\n",
      "7   70010.0    1983.43  2012-10-10       3004.0\n",
      "8   70003.0    2480.40  2012-10-10       3003.0\n",
      "9   70012.0     250.45  2012-10-10       3002.0\n",
      "10      NaN      75.29  2012-10-10       3001.0\n",
      "11      NaN        NaN  2012-10-10          NaN\n",
      "keep\tthe\tvalid\tentries\n"
     ]
    },
    {
     "data": {
      "text/html": [
       "<div>\n",
       "<style scoped>\n",
       "    .dataframe tbody tr th:only-of-type {\n",
       "        vertical-align: middle;\n",
       "    }\n",
       "\n",
       "    .dataframe tbody tr th {\n",
       "        vertical-align: top;\n",
       "    }\n",
       "\n",
       "    .dataframe thead th {\n",
       "        text-align: right;\n",
       "    }\n",
       "</style>\n",
       "<table border=\"1\" class=\"dataframe\">\n",
       "  <thead>\n",
       "    <tr style=\"text-align: right;\">\n",
       "      <th></th>\n",
       "      <th>ord_no</th>\n",
       "      <th>purch_amt</th>\n",
       "      <th>ord_date</th>\n",
       "      <th>customer_id</th>\n",
       "    </tr>\n",
       "  </thead>\n",
       "  <tbody>\n",
       "    <tr>\n",
       "      <th>5</th>\n",
       "      <td>70005.0</td>\n",
       "      <td>2400.60</td>\n",
       "      <td>2012-07-27</td>\n",
       "      <td>3001.0</td>\n",
       "    </tr>\n",
       "    <tr>\n",
       "      <th>7</th>\n",
       "      <td>70010.0</td>\n",
       "      <td>1983.43</td>\n",
       "      <td>2012-10-10</td>\n",
       "      <td>3004.0</td>\n",
       "    </tr>\n",
       "    <tr>\n",
       "      <th>8</th>\n",
       "      <td>70003.0</td>\n",
       "      <td>2480.40</td>\n",
       "      <td>2012-10-10</td>\n",
       "      <td>3003.0</td>\n",
       "    </tr>\n",
       "    <tr>\n",
       "      <th>9</th>\n",
       "      <td>70012.0</td>\n",
       "      <td>250.45</td>\n",
       "      <td>2012-10-10</td>\n",
       "      <td>3002.0</td>\n",
       "    </tr>\n",
       "  </tbody>\n",
       "</table>\n",
       "</div>"
      ],
      "text/plain": [
       "    ord_no  purch_amt    ord_date  customer_id\n",
       "5  70005.0    2400.60  2012-07-27       3001.0\n",
       "7  70010.0    1983.43  2012-10-10       3004.0\n",
       "8  70003.0    2480.40  2012-10-10       3003.0\n",
       "9  70012.0     250.45  2012-10-10       3002.0"
      ]
     },
     "execution_count": 649,
     "metadata": {},
     "output_type": "execute_result"
    }
   ],
   "source": [
    " #\t10.\tWrite\ta\tPandas\tprogram\tto\tkeep\tthe\tvalid\tentries\tof\ta\tgiven\tDataFrame\n",
    " print(\"Original\tdataframe\")\n",
    " print(df_new)\n",
    " print(\"keep\tthe\tvalid\tentries\")\n",
    " df_new.dropna()"
   ]
  },
  {
   "cell_type": "code",
   "execution_count": 651,
   "metadata": {},
   "outputs": [
    {
     "name": "stdout",
     "output_type": "stream",
     "text": [
      "Original\tdataframe\n",
      "     ord_no  purch_amt    ord_date  customer_id\n",
      "0       NaN        NaN         NaN          NaN\n",
      "1       NaN     270.65  2012-09-10       3001.0\n",
      "2   70002.0      65.26         NaN       3001.0\n",
      "3       NaN        NaN         NaN          NaN\n",
      "4       NaN     948.50  2012-09-10       3002.0\n",
      "5   70005.0    2400.60  2012-07-27       3001.0\n",
      "6       NaN    5760.00  2012-09-10       3001.0\n",
      "7   70010.0    1983.43  2012-10-10       3004.0\n",
      "8   70003.0    2480.40  2012-10-10       3003.0\n",
      "9   70012.0     250.45  2012-10-10       3002.0\n",
      "10      NaN      75.29  2012-10-10       3001.0\n",
      "11      NaN        NaN  2012-10-10          NaN\n",
      "calculate\tthe\ttotal\tnumber\tof\tmissing\tvalues\n"
     ]
    },
    {
     "data": {
      "text/plain": [
       "16"
      ]
     },
     "execution_count": 651,
     "metadata": {},
     "output_type": "execute_result"
    }
   ],
   "source": [
    " #\t11.\tWrite\ta\tPandas\tprogram\tto\tcalculate\tthe\ttotal\tnumber\tof\tmissing\tvalues\tin\ta\tDataFrame.\n",
    " print(\"Original\tdataframe\")\n",
    " print(df_new)\n",
    " print(\"calculate\tthe\ttotal\tnumber\tof\tmissing\tvalues\")\n",
    " df_new.isna().sum().sum()"
   ]
  },
  {
   "cell_type": "code",
   "execution_count": 653,
   "metadata": {},
   "outputs": [
    {
     "name": "stdout",
     "output_type": "stream",
     "text": [
      "Original\tdataframe\n",
      "     ord_no  purch_amt    ord_date  customer_id\n",
      "0       NaN        NaN         NaN          NaN\n",
      "1       NaN     270.65  2012-09-10       3001.0\n",
      "2   70002.0      65.26         NaN       3001.0\n",
      "3       NaN        NaN         NaN          NaN\n",
      "4       NaN     948.50  2012-09-10       3002.0\n",
      "5   70005.0    2400.60  2012-07-27       3001.0\n",
      "6       NaN    5760.00  2012-09-10       3001.0\n",
      "7   70010.0    1983.43  2012-10-10       3004.0\n",
      "8   70003.0    2480.40  2012-10-10       3003.0\n",
      "9   70012.0     250.45  2012-10-10       3002.0\n",
      "10      NaN      75.29  2012-10-10       3001.0\n",
      "11      NaN        NaN  2012-10-10          NaN\n",
      "replace\tNaNs\twith\ta\tsingle\tconstant\tvalue\tspecified\tcolumns\n",
      "0         0.0\n",
      "1         0.0\n",
      "2     70002.0\n",
      "3         0.0\n",
      "4         0.0\n",
      "5     70005.0\n",
      "6         0.0\n",
      "7     70010.0\n",
      "8     70003.0\n",
      "9     70012.0\n",
      "10        0.0\n",
      "11        0.0\n",
      "Name: ord_no, dtype: float64\n"
     ]
    }
   ],
   "source": [
    " #12.\tWrite\ta\tPandas\tprogram\tto\treplace\tNaNs\twith\ta\tsingle\tconstant\tvalue\tin\tspecified\tcolumns\tin\ta\tDataFrame\n",
    " print(\"Original\tdataframe\")\n",
    " print(df_new)\n",
    " print(\"replace\tNaNs\twith\ta\tsingle\tconstant\tvalue\tspecified\tcolumns\")\n",
    " print(df_new['ord_no'].fillna(0))\n"
   ]
  },
  {
   "cell_type": "code",
   "execution_count": 655,
   "metadata": {},
   "outputs": [
    {
     "name": "stdout",
     "output_type": "stream",
     "text": [
      "Original\tdataframe\n",
      "     ord_no  purch_amt    ord_date  customer_id\n",
      "0       NaN        NaN         NaN          NaN\n",
      "1       NaN     270.65  2012-09-10       3001.0\n",
      "2   70002.0      65.26         NaN       3001.0\n",
      "3       NaN        NaN         NaN          NaN\n",
      "4       NaN     948.50  2012-09-10       3002.0\n",
      "5   70005.0    2400.60  2012-07-27       3001.0\n",
      "6       NaN    5760.00  2012-09-10       3001.0\n",
      "7   70010.0    1983.43  2012-10-10       3004.0\n",
      "8   70003.0    2480.40  2012-10-10       3003.0\n",
      "9   70012.0     250.45  2012-10-10       3002.0\n",
      "10      NaN      75.29  2012-10-10       3001.0\n",
      "11      NaN        NaN  2012-10-10          NaN\n",
      "replace\tNaNs\twith\tthe\tvalue\tfrom\tthe\tprevious\trow\n",
      "     ord_no  purch_amt    ord_date  customer_id\n",
      "0       NaN        NaN         NaN          NaN\n",
      "1       NaN     270.65  2012-09-10       3001.0\n",
      "2   70002.0      65.26  2012-09-10       3001.0\n",
      "3   70002.0      65.26  2012-09-10       3001.0\n",
      "4   70002.0     948.50  2012-09-10       3002.0\n",
      "5   70005.0    2400.60  2012-07-27       3001.0\n",
      "6   70005.0    5760.00  2012-09-10       3001.0\n",
      "7   70010.0    1983.43  2012-10-10       3004.0\n",
      "8   70003.0    2480.40  2012-10-10       3003.0\n",
      "9   70012.0     250.45  2012-10-10       3002.0\n",
      "10  70012.0      75.29  2012-10-10       3001.0\n",
      "11  70012.0      75.29  2012-10-10       3001.0\n",
      "replace\tNaNs\twith\tthe\tvalue\tfrom\tthe\tnext\trow\n"
     ]
    },
    {
     "data": {
      "text/html": [
       "<div>\n",
       "<style scoped>\n",
       "    .dataframe tbody tr th:only-of-type {\n",
       "        vertical-align: middle;\n",
       "    }\n",
       "\n",
       "    .dataframe tbody tr th {\n",
       "        vertical-align: top;\n",
       "    }\n",
       "\n",
       "    .dataframe thead th {\n",
       "        text-align: right;\n",
       "    }\n",
       "</style>\n",
       "<table border=\"1\" class=\"dataframe\">\n",
       "  <thead>\n",
       "    <tr style=\"text-align: right;\">\n",
       "      <th></th>\n",
       "      <th>ord_no</th>\n",
       "      <th>purch_amt</th>\n",
       "      <th>ord_date</th>\n",
       "      <th>customer_id</th>\n",
       "    </tr>\n",
       "  </thead>\n",
       "  <tbody>\n",
       "    <tr>\n",
       "      <th>0</th>\n",
       "      <td>70002.0</td>\n",
       "      <td>270.65</td>\n",
       "      <td>2012-09-10</td>\n",
       "      <td>3001.0</td>\n",
       "    </tr>\n",
       "    <tr>\n",
       "      <th>1</th>\n",
       "      <td>70002.0</td>\n",
       "      <td>270.65</td>\n",
       "      <td>2012-09-10</td>\n",
       "      <td>3001.0</td>\n",
       "    </tr>\n",
       "    <tr>\n",
       "      <th>2</th>\n",
       "      <td>70002.0</td>\n",
       "      <td>65.26</td>\n",
       "      <td>2012-09-10</td>\n",
       "      <td>3001.0</td>\n",
       "    </tr>\n",
       "    <tr>\n",
       "      <th>3</th>\n",
       "      <td>70005.0</td>\n",
       "      <td>948.50</td>\n",
       "      <td>2012-09-10</td>\n",
       "      <td>3002.0</td>\n",
       "    </tr>\n",
       "    <tr>\n",
       "      <th>4</th>\n",
       "      <td>70005.0</td>\n",
       "      <td>948.50</td>\n",
       "      <td>2012-09-10</td>\n",
       "      <td>3002.0</td>\n",
       "    </tr>\n",
       "    <tr>\n",
       "      <th>5</th>\n",
       "      <td>70005.0</td>\n",
       "      <td>2400.60</td>\n",
       "      <td>2012-07-27</td>\n",
       "      <td>3001.0</td>\n",
       "    </tr>\n",
       "    <tr>\n",
       "      <th>6</th>\n",
       "      <td>70010.0</td>\n",
       "      <td>5760.00</td>\n",
       "      <td>2012-09-10</td>\n",
       "      <td>3001.0</td>\n",
       "    </tr>\n",
       "    <tr>\n",
       "      <th>7</th>\n",
       "      <td>70010.0</td>\n",
       "      <td>1983.43</td>\n",
       "      <td>2012-10-10</td>\n",
       "      <td>3004.0</td>\n",
       "    </tr>\n",
       "    <tr>\n",
       "      <th>8</th>\n",
       "      <td>70003.0</td>\n",
       "      <td>2480.40</td>\n",
       "      <td>2012-10-10</td>\n",
       "      <td>3003.0</td>\n",
       "    </tr>\n",
       "    <tr>\n",
       "      <th>9</th>\n",
       "      <td>70012.0</td>\n",
       "      <td>250.45</td>\n",
       "      <td>2012-10-10</td>\n",
       "      <td>3002.0</td>\n",
       "    </tr>\n",
       "    <tr>\n",
       "      <th>10</th>\n",
       "      <td>NaN</td>\n",
       "      <td>75.29</td>\n",
       "      <td>2012-10-10</td>\n",
       "      <td>3001.0</td>\n",
       "    </tr>\n",
       "    <tr>\n",
       "      <th>11</th>\n",
       "      <td>NaN</td>\n",
       "      <td>NaN</td>\n",
       "      <td>2012-10-10</td>\n",
       "      <td>NaN</td>\n",
       "    </tr>\n",
       "  </tbody>\n",
       "</table>\n",
       "</div>"
      ],
      "text/plain": [
       "     ord_no  purch_amt    ord_date  customer_id\n",
       "0   70002.0     270.65  2012-09-10       3001.0\n",
       "1   70002.0     270.65  2012-09-10       3001.0\n",
       "2   70002.0      65.26  2012-09-10       3001.0\n",
       "3   70005.0     948.50  2012-09-10       3002.0\n",
       "4   70005.0     948.50  2012-09-10       3002.0\n",
       "5   70005.0    2400.60  2012-07-27       3001.0\n",
       "6   70010.0    5760.00  2012-09-10       3001.0\n",
       "7   70010.0    1983.43  2012-10-10       3004.0\n",
       "8   70003.0    2480.40  2012-10-10       3003.0\n",
       "9   70012.0     250.45  2012-10-10       3002.0\n",
       "10      NaN      75.29  2012-10-10       3001.0\n",
       "11      NaN        NaN  2012-10-10          NaN"
      ]
     },
     "execution_count": 655,
     "metadata": {},
     "output_type": "execute_result"
    }
   ],
   "source": [
    " #\t13.\tWrite\ta\tPandas\tprogram\tto\treplace\tNaNs\twith\tthe\tvalue\tfrom\tthe\tprevious\trow\tor\tthe\tnext\trow\tin\ta\tgiven\tDataFram\n",
    " print(\"Original\tdataframe\")\n",
    " print(df_new)\n",
    " print(\"replace\tNaNs\twith\tthe\tvalue\tfrom\tthe\tprevious\trow\")\n",
    " print(df_new.fillna(method='ffill'))\n",
    " print(\"replace\tNaNs\twith\tthe\tvalue\tfrom\tthe\tnext\trow\")\n",
    " df_new.fillna(method='bfill')\n"
   ]
  },
  {
   "cell_type": "code",
   "execution_count": 657,
   "metadata": {},
   "outputs": [
    {
     "name": "stdout",
     "output_type": "stream",
     "text": [
      "Original\tdataframe\n",
      "     ord_no  purch_amt    ord_date  customer_id\n",
      "0       NaN        NaN         NaN          NaN\n",
      "1       NaN     270.65  2012-09-10       3001.0\n",
      "2   70002.0      65.26         NaN       3001.0\n",
      "3       NaN        NaN         NaN          NaN\n",
      "4       NaN     948.50  2012-09-10       3002.0\n",
      "5   70005.0    2400.60  2012-07-27       3001.0\n",
      "6       NaN    5760.00  2012-09-10       3001.0\n",
      "7   70010.0    1983.43  2012-10-10       3004.0\n",
      "8   70003.0    2480.40  2012-10-10       3003.0\n",
      "9   70012.0     250.45  2012-10-10       3002.0\n",
      "10      NaN      75.29  2012-10-10       3001.0\n",
      "11      NaN        NaN  2012-10-10          NaN\n",
      "replace\tNaNs\twith\tmedian\tof\tthe\tspecified\tcolumns\n",
      "0      948.50\n",
      "1      270.65\n",
      "2       65.26\n",
      "3      948.50\n",
      "4      948.50\n",
      "5     2400.60\n",
      "6     5760.00\n",
      "7     1983.43\n",
      "8     2480.40\n",
      "9      250.45\n",
      "10      75.29\n",
      "11     948.50\n",
      "Name: purch_amt, dtype: float64\n",
      "replace\tNaNs\twith\tmean\tof\tthe\tspecified\tcolumns\n",
      "0     1581.62\n",
      "1      270.65\n",
      "2       65.26\n",
      "3     1581.62\n",
      "4      948.50\n",
      "5     2400.60\n",
      "6     5760.00\n",
      "7     1983.43\n",
      "8     2480.40\n",
      "9      250.45\n",
      "10      75.29\n",
      "11    1581.62\n",
      "Name: purch_amt, dtype: float64\n"
     ]
    }
   ],
   "source": [
    " #\t14.\tWrite\ta\tPandas\tprogram\tto\treplace\tNaNs\twith\tmedian\tor\tmean\tof\tthe\tspecified\tcolumns\tin\ta\tgiven\tDataFrame.\n",
    " print(\"Original\tdataframe\")\n",
    " print(df_new)\n",
    " print(\"replace\tNaNs\twith\tmedian\tof\tthe\tspecified\tcolumns\")\n",
    " print(df_new['purch_amt'].fillna(df_new['purch_amt'].median()))\n",
    " print(\"replace\tNaNs\twith\tmean\tof\tthe\tspecified\tcolumns\")\n",
    " print(df_new['purch_amt'].fillna(np.mean(df_new['purch_amt'])))"
   ]
  },
  {
   "cell_type": "code",
   "execution_count": 659,
   "metadata": {},
   "outputs": [
    {
     "name": "stdout",
     "output_type": "stream",
     "text": [
      "Original\tdataframe\n",
      "     ord_no  purch_amt    ord_date  customer_id\n",
      "0       NaN        NaN         NaN          NaN\n",
      "1       NaN     270.65  2012-09-10       3001.0\n",
      "2   70002.0      65.26         NaN       3001.0\n",
      "3       NaN        NaN         NaN          NaN\n",
      "4       NaN     948.50  2012-09-10       3002.0\n",
      "5   70005.0    2400.60  2012-07-27       3001.0\n",
      "6       NaN    5760.00  2012-09-10       3001.0\n",
      "7   70010.0    1983.43  2012-10-10       3004.0\n",
      "8   70003.0    2480.40  2012-10-10       3003.0\n",
      "9   70012.0     250.45  2012-10-10       3002.0\n",
      "10      NaN      75.29  2012-10-10       3001.0\n",
      "11      NaN        NaN  2012-10-10          NaN\n",
      "interpolate\tthe\tmissing\tvalues\tusing\tthe\tLinear\tInterpolation\tmethod\n"
     ]
    },
    {
     "data": {
      "text/plain": [
       "0      150.50\n",
       "1      270.65\n",
       "2       65.26\n",
       "3      110.50\n",
       "4      948.50\n",
       "5     2400.60\n",
       "6     5760.00\n",
       "7     1983.43\n",
       "8     2480.40\n",
       "9      250.45\n",
       "10      75.29\n",
       "11    3045.60\n",
       "Name: purch_amt, dtype: float64"
      ]
     },
     "execution_count": 659,
     "metadata": {},
     "output_type": "execute_result"
    }
   ],
   "source": [
    " #\t15.\tWrite\ta\tPandas\tprogram\tto\tinterpolate\tthe\tmissing\tvalues\tusing\tthe\tLinear\tInterpolation\tmethod\tin\ta\tgiven\tDataF\n",
    " #\tFrom\tWikipedia,\tin\tmathematics,\t\n",
    "#\tlinear\tinterpolation\tis\ta\tmethod\tof\tcurve\tfitting\tusing\t\n",
    "#\tlinear\tpolynomials\tto\tconstruct\tnew\tdata\tpoints\t\n",
    "#\twithin\tthe\trange\tof\ta\tdiscrete\tset\tof\tknown\tdata\tpoints.\n",
    " print(\"Original\tdataframe\")\n",
    " print(df_new)\n",
    " print('interpolate\tthe\tmissing\tvalues\tusing\tthe\tLinear\tInterpolation\tmethod')\n",
    " df['purch_amt'].interpolate()\n"
   ]
  },
  {
   "cell_type": "code",
   "execution_count": 661,
   "metadata": {},
   "outputs": [
    {
     "name": "stdout",
     "output_type": "stream",
     "text": [
      "Original\tdataframe\n",
      "     ord_no  purch_amt    ord_date  customer_id\n",
      "0       NaN        NaN         NaN          NaN\n",
      "1       NaN     270.65  2012-09-10       3001.0\n",
      "2   70002.0      65.26         NaN       3001.0\n",
      "3       NaN        NaN         NaN          NaN\n",
      "4       NaN     948.50  2012-09-10       3002.0\n",
      "5   70005.0    2400.60  2012-07-27       3001.0\n",
      "6       NaN    5760.00  2012-09-10       3001.0\n",
      "7   70010.0    1983.43  2012-10-10       3004.0\n",
      "8   70003.0    2480.40  2012-10-10       3003.0\n",
      "9   70012.0     250.45  2012-10-10       3002.0\n",
      "10      NaN      75.29  2012-10-10       3001.0\n",
      "11      NaN        NaN  2012-10-10          NaN\n",
      "count\tthe\tnumber\tof\tmissing\tvalues\tof\ta\tspecified\tcolumn\n"
     ]
    },
    {
     "data": {
      "text/plain": [
       "7"
      ]
     },
     "execution_count": 661,
     "metadata": {},
     "output_type": "execute_result"
    }
   ],
   "source": [
    " #\t16.\tWrite\ta\tPandas\tprogram\tto\tcount\tthe\tnumber\tof\tmissing\tvalues\tof\ta\tspecified\tcolumn\tin\ta\tgiven\tDataFrame.\n",
    " print(\"Original\tdataframe\")\n",
    " print(df_new)\n",
    " print(\"count\tthe\tnumber\tof\tmissing\tvalues\tof\ta\tspecified\tcolumn\")\n",
    " df_new['ord_no'].isna().sum()"
   ]
  },
  {
   "cell_type": "code",
   "execution_count": 663,
   "metadata": {},
   "outputs": [
    {
     "name": "stdout",
     "output_type": "stream",
     "text": [
      "Original\tdataframe\n",
      "     ord_no  purch_amt    ord_date  customer_id\n",
      "0       NaN        NaN         NaN          NaN\n",
      "1       NaN     270.65  2012-09-10       3001.0\n",
      "2   70002.0      65.26         NaN       3001.0\n",
      "3       NaN        NaN         NaN          NaN\n",
      "4       NaN     948.50  2012-09-10       3002.0\n",
      "5   70005.0    2400.60  2012-07-27       3001.0\n",
      "6       NaN    5760.00  2012-09-10       3001.0\n",
      "7   70010.0    1983.43  2012-10-10       3004.0\n",
      "8   70003.0    2480.40  2012-10-10       3003.0\n",
      "9   70012.0     250.45  2012-10-10       3002.0\n",
      "10      NaN      75.29  2012-10-10       3001.0\n",
      "11      NaN        NaN  2012-10-10          NaN\n",
      "count\tthe\tmissing\tvalues\n"
     ]
    },
    {
     "data": {
      "text/plain": [
       "16"
      ]
     },
     "execution_count": 663,
     "metadata": {},
     "output_type": "execute_result"
    }
   ],
   "source": [
    " #\t17.\tWrite\ta\tPandas\tprogram\tto\tcount\tthe\tmissing\tvalues\tin\ta\tgiven\tDataFrame.\n",
    " print(\"Original\tdataframe\")\n",
    " print(df_new)\n",
    " print(\"count\tthe\tmissing\tvalues\")\n",
    " df_new.isna().sum().sum()"
   ]
  },
  {
   "cell_type": "code",
   "execution_count": 665,
   "metadata": {},
   "outputs": [
    {
     "name": "stdout",
     "output_type": "stream",
     "text": [
      "Original\tdataframe\n",
      "     ord_no  purch_amt    ord_date  customer_id\n",
      "0       NaN        NaN         NaN          NaN\n",
      "1       NaN     270.65  2012-09-10       3001.0\n",
      "2   70002.0      65.26         NaN       3001.0\n",
      "3       NaN        NaN         NaN          NaN\n",
      "4       NaN     948.50  2012-09-10       3002.0\n",
      "5   70005.0    2400.60  2012-07-27       3001.0\n",
      "6       NaN    5760.00  2012-09-10       3001.0\n",
      "7   70010.0    1983.43  2012-10-10       3004.0\n",
      "8   70003.0    2480.40  2012-10-10       3003.0\n",
      "9   70012.0     250.45  2012-10-10       3002.0\n",
      "10      NaN      75.29  2012-10-10       3001.0\n",
      "11      NaN        NaN  2012-10-10          NaN\n",
      "Indexes\tof\tmissing\tvalues\n"
     ]
    },
    {
     "data": {
      "text/plain": [
       "Index([0, 1, 2, 3, 4, 6, 10, 11], dtype='int64')"
      ]
     },
     "execution_count": 665,
     "metadata": {},
     "output_type": "execute_result"
    }
   ],
   "source": [
    " #\t18.\tWrite\ta\tPandas\tprogram\tto\tfind\tthe\tIndexes\tof\tmissing\tvalues\tin\ta\tgiven\tDataFrame.\n",
    " print(\"Original\tdataframe\")\n",
    " print(df_new)\n",
    " print(\"Indexes\tof\tmissing\tvalues\")\n",
    " df_new[df_new.isna().any(axis=1)].index\n"
   ]
  },
  {
   "cell_type": "code",
   "execution_count": 681,
   "metadata": {},
   "outputs": [
    {
     "name": "stdout",
     "output_type": "stream",
     "text": [
      "Original dataframe\n",
      "     ord_no  purch_amt    ord_date  customer_id\n",
      "0       NaN        NaN         NaN          NaN\n",
      "1       NaN     270.65  2012-09-10       3001.0\n",
      "2   70002.0      65.26         NaN       3001.0\n",
      "3       NaN        NaN         NaN          NaN\n",
      "4       NaN     948.50  2012-09-10       3002.0\n",
      "5   70005.0    2400.60  2012-07-27       3001.0\n",
      "6       NaN    5760.00  2012-09-10       3001.0\n",
      "7   70010.0    1983.43  2012-10-10       3004.0\n",
      "8   70003.0    2480.40  2012-10-10       3003.0\n",
      "9   70012.0     250.45  2012-10-10       3002.0\n",
      "10      NaN      75.29  2012-10-10       3001.0\n",
      "11      NaN        NaN  2012-10-10          NaN\n",
      "Replace the missing values with the most frequent values present in each column\n",
      "     ord_no  purch_amt    ord_date  customer_id\n",
      "0   70002.0      65.26  2012-10-10       3001.0\n",
      "1   70002.0     270.65  2012-09-10       3001.0\n",
      "2   70002.0      65.26  2012-10-10       3001.0\n",
      "3   70002.0      65.26  2012-10-10       3001.0\n",
      "4   70002.0     948.50  2012-09-10       3002.0\n",
      "5   70005.0    2400.60  2012-07-27       3001.0\n",
      "6   70002.0    5760.00  2012-09-10       3001.0\n",
      "7   70010.0    1983.43  2012-10-10       3004.0\n",
      "8   70003.0    2480.40  2012-10-10       3003.0\n",
      "9   70012.0     250.45  2012-10-10       3002.0\n",
      "10  70002.0      75.29  2012-10-10       3001.0\n",
      "11  70002.0      65.26  2012-10-10       3001.0\n"
     ]
    }
   ],
   "source": [
    "#\t19.\tWrite\ta\tPandas\tprogram\tto\treplace\tthe\tmissing\tvalues\twith\tthe\tmost\t\n",
    "#frequent\tvalues\tpresent\tin\teach\tcolumn\tof\ta\tgiven\tDataFrame.\n",
    "df_new = pd.DataFrame({\n",
    "    'ord_no': [np.nan, np.nan, 70002, np.nan, np.nan, 70005, np.nan, 70010, 70003, 70012, np.nan, np.nan],\n",
    "    'purch_amt': [np.nan, 270.65, 65.26, np.nan, 948.5, 2400.6, 5760, 1983.43, 2480.4, 250.45, 75.29, np.nan],\n",
    "    'ord_date': [np.nan, '2012-09-10', np.nan, np.nan, '2012-09-10', '2012-07-27', '2012-09-10', '2012-10-10', '2012-10-10', '2012-10-10', '2012-10-10', '2012-10-10'],\n",
    "    'customer_id': [np.nan, 3001, 3001, np.nan, 3002, 3001, 3001, 3004, 3003, 3002, 3001, np.nan]\n",
    "})\n",
    "\n",
    "print('Original dataframe')\n",
    "print(df_new)\n",
    "\n",
    "print(\"Replace the missing values with the most frequent values present in each column\")\n",
    "# Fill missing values with the most frequent values in each column\n",
    "df_new.fillna(df_new.mode().iloc[0], inplace=True)  # Added inplace=True to modify df_new directly\n",
    "print(df_new)  # Print the updated DataFrame"
   ]
  },
  {
   "cell_type": "code",
   "execution_count": 683,
   "metadata": {},
   "outputs": [
    {
     "name": "stdout",
     "output_type": "stream",
     "text": [
      "Original\tdataframe\n",
      "     ord_no  purch_amt    ord_date  customer_id\n",
      "0   70002.0      65.26  2012-10-10       3001.0\n",
      "1   70002.0     270.65  2012-09-10       3001.0\n",
      "2   70002.0      65.26  2012-10-10       3001.0\n",
      "3   70002.0      65.26  2012-10-10       3001.0\n",
      "4   70002.0     948.50  2012-09-10       3002.0\n",
      "5   70005.0    2400.60  2012-07-27       3001.0\n",
      "6   70002.0    5760.00  2012-09-10       3001.0\n",
      "7   70010.0    1983.43  2012-10-10       3004.0\n",
      "8   70003.0    2480.40  2012-10-10       3003.0\n",
      "9   70012.0     250.45  2012-10-10       3002.0\n",
      "10  70002.0      75.29  2012-10-10       3001.0\n",
      "11  70002.0      65.26  2012-10-10       3001.0\n"
     ]
    },
    {
     "data": {
      "image/png": "[encoded data removed]",
      "text/plain": [
       "<Figure size 640x480 with 2 Axes>"
      ]
     },
     "metadata": {},
     "output_type": "display_data"
    }
   ],
   "source": [
    " #\t20.\tWrite\ta\tPandas\tprogram\tto\tcreate\ta\thitmap\tfor\tmore\tinformation\tabout\tthe\t\n",
    "#\tdistribution\tof\tmissing\tvalues\tin\ta\tgiven\tDataFrame.\n",
    " import\tseaborn\tas\tsns\n",
    " import\tmatplotlib.pyplot\tas\tplt\n",
    " print(\"Original\tdataframe\")\n",
    " print(df_new)\n",
    " sns.heatmap(df_new.isnull())\n",
    " plt.show()\n"
   ]
  }
 ],
 "metadata": {
  "kernelspec": {
   "display_name": "Python 3 (ipykernel)",
   "language": "python",
   "name": "python3"
  },
  "language_info": {
   "codemirror_mode": {
    "name": "ipython",
    "version": 3
   },
   "file_extension": ".py",
   "mimetype": "text/x-python",
   "name": "python",
   "nbconvert_exporter": "python",
   "pygments_lexer": "ipython3",
   "version": "3.12.4"
  }
 },
 "nbformat": 4,
 "nbformat_minor": 4
}
